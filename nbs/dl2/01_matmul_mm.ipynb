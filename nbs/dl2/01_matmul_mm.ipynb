{
  "nbformat": 4,
  "nbformat_minor": 0,
  "metadata": {
    "kernelspec": {
      "display_name": "Python 3",
      "language": "python",
      "name": "python3"
    },
    "colab": {
      "name": "01_matmul.ipynb",
      "provenance": []
    }
  },
  "cells": [
    {
      "cell_type": "markdown",
      "metadata": {
        "id": "XhPrzKp0PoAI",
        "colab_type": "text"
      },
      "source": [
        "## Matrix multiplication from foundations"
      ]
    },
    {
      "cell_type": "markdown",
      "metadata": {
        "id": "IX1PYyauPoAe",
        "colab_type": "text"
      },
      "source": [
        "The *foundations* we'll assume throughout this course are:\n",
        "\n",
        "- Python\n",
        "- Python modules (non-DL)\n",
        "- pytorch indexable tensor, and tensor creation (including RNGs - random number generators)\n",
        "- fastai.datasets"
      ]
    },
    {
      "cell_type": "markdown",
      "metadata": {
        "id": "DZxdrXGRPoAj",
        "colab_type": "text"
      },
      "source": [
        "## Check imports"
      ]
    },
    {
      "cell_type": "code",
      "metadata": {
        "id": "vIekHCiLPoBA",
        "colab_type": "code",
        "colab": {}
      },
      "source": [
        "%load_ext autoreload\n",
        "%autoreload 2\n",
        "\n",
        "%matplotlib inline"
      ],
      "execution_count": 0,
      "outputs": []
    },
    {
      "cell_type": "markdown",
      "metadata": {
        "id": "hx7kUliFPoBs",
        "colab_type": "text"
      },
      "source": [
        "[Jump_to lesson 8 video](https://course.fast.ai/videos/?lesson=8&t=1850)"
      ]
    },
    {
      "cell_type": "code",
      "metadata": {
        "id": "f3ewcD0DPoB0",
        "colab_type": "code",
        "colab": {}
      },
      "source": [
        "#export\n",
        "from exp.nb_00 import *\n",
        "import operator\n",
        "\n",
        "def test(a,b,cmp,cname=None):\n",
        "    if cname is None: cname=cmp.__name__\n",
        "    assert cmp(a,b),f\"{cname}:\\n{a}\\n{b}\"\n",
        "\n",
        "def test_eq(a,b): test(a,b,operator.eq,'==')"
      ],
      "execution_count": 0,
      "outputs": []
    },
    {
      "cell_type": "code",
      "metadata": {
        "id": "Tn31YaINPoCH",
        "colab_type": "code",
        "colab": {}
      },
      "source": [
        "test_eq(TEST,'test')"
      ],
      "execution_count": 0,
      "outputs": []
    },
    {
      "cell_type": "code",
      "metadata": {
        "id": "ewf_nL_IPoCi",
        "colab_type": "code",
        "colab": {}
      },
      "source": [
        "# To run tests in console:\n",
        "# ! python run_notebook.py 01_matmul.ipynb"
      ],
      "execution_count": 0,
      "outputs": []
    },
    {
      "cell_type": "markdown",
      "metadata": {
        "id": "LN-Q2i_iPoC1",
        "colab_type": "text"
      },
      "source": [
        "## Get data"
      ]
    },
    {
      "cell_type": "markdown",
      "metadata": {
        "id": "1aDu74tsPoC8",
        "colab_type": "text"
      },
      "source": [
        "[Jump_to lesson 8 video](https://course.fast.ai/videos/?lesson=8&t=2159)"
      ]
    },
    {
      "cell_type": "code",
      "metadata": {
        "id": "TVY5iMlYPoDA",
        "colab_type": "code",
        "colab": {}
      },
      "source": [
        "#export\n",
        "from pathlib import Path\n",
        "from IPython.core.debugger import set_trace\n",
        "from fastai import datasets\n",
        "import pickle, gzip, math, torch, matplotlib as mpl\n",
        "import matplotlib.pyplot as plt\n",
        "from torch import tensor\n",
        "\n",
        "MNIST_URL='http://deeplearning.net/data/mnist/mnist.pkl'"
      ],
      "execution_count": 0,
      "outputs": []
    },
    {
      "cell_type": "code",
      "metadata": {
        "id": "kEvk6Vh4PoDa",
        "colab_type": "code",
        "colab": {},
        "outputId": "0a2a71b8-f126-45d5-f838-dfbaa3a627c6"
      },
      "source": [
        "path = datasets.download_data(MNIST_URL, ext='.gz'); path"
      ],
      "execution_count": 0,
      "outputs": [
        {
          "output_type": "execute_result",
          "data": {
            "text/plain": [
              "PosixPath('/home/ubuntu/.fastai/data/mnist.pkl.gz')"
            ]
          },
          "metadata": {
            "tags": []
          },
          "execution_count": 0
        }
      ]
    },
    {
      "cell_type": "code",
      "metadata": {
        "id": "-dhOSxdAPoD_",
        "colab_type": "code",
        "colab": {}
      },
      "source": [
        "with gzip.open(path, 'rb') as f:\n",
        "    ((x_train, y_train), (x_valid, y_valid), _) = pickle.load(f, encoding='latin-1')"
      ],
      "execution_count": 0,
      "outputs": []
    },
    {
      "cell_type": "code",
      "metadata": {
        "id": "QAKov_HnPoEK",
        "colab_type": "code",
        "colab": {},
        "outputId": "885264d9-4d76-4996-86de-c6812b4edd2e"
      },
      "source": [
        "x_train,y_train,x_valid,y_valid = map(tensor, (x_train,y_train,x_valid,y_valid))\n",
        "n,c = x_train.shape\n",
        "x_train, x_train.shape, y_train, y_train.shape, y_train.min(), y_train.max()"
      ],
      "execution_count": 0,
      "outputs": [
        {
          "output_type": "execute_result",
          "data": {
            "text/plain": [
              "(tensor([[0., 0., 0.,  ..., 0., 0., 0.],\n",
              "         [0., 0., 0.,  ..., 0., 0., 0.],\n",
              "         [0., 0., 0.,  ..., 0., 0., 0.],\n",
              "         ...,\n",
              "         [0., 0., 0.,  ..., 0., 0., 0.],\n",
              "         [0., 0., 0.,  ..., 0., 0., 0.],\n",
              "         [0., 0., 0.,  ..., 0., 0., 0.]]),\n",
              " torch.Size([50000, 784]),\n",
              " tensor([5, 0, 4,  ..., 8, 4, 8]),\n",
              " torch.Size([50000]),\n",
              " tensor(0),\n",
              " tensor(9))"
            ]
          },
          "metadata": {
            "tags": []
          },
          "execution_count": 0
        }
      ]
    },
    {
      "cell_type": "code",
      "metadata": {
        "id": "n6dY7D_pPoEj",
        "colab_type": "code",
        "colab": {}
      },
      "source": [
        "assert n==y_train.shape[0]==50000\n",
        "test_eq(c,28*28)\n",
        "test_eq(y_train.min(),0)\n",
        "test_eq(y_train.max(),9)"
      ],
      "execution_count": 0,
      "outputs": []
    },
    {
      "cell_type": "code",
      "metadata": {
        "id": "RA8Ee1bBPoE8",
        "colab_type": "code",
        "colab": {}
      },
      "source": [
        "mpl.rcParams['image.cmap'] = 'gray'"
      ],
      "execution_count": 0,
      "outputs": []
    },
    {
      "cell_type": "code",
      "metadata": {
        "id": "nGQUprRGPoFM",
        "colab_type": "code",
        "colab": {}
      },
      "source": [
        "img = x_train[0]"
      ],
      "execution_count": 0,
      "outputs": []
    },
    {
      "cell_type": "code",
      "metadata": {
        "id": "RXdy7B5GPoFk",
        "colab_type": "code",
        "colab": {},
        "outputId": "31f2ce42-ae7f-4c3c-94ca-f40ef55c92dd"
      },
      "source": [
        "img.view(28,28).type()"
      ],
      "execution_count": 0,
      "outputs": [
        {
          "output_type": "execute_result",
          "data": {
            "text/plain": [
              "'torch.FloatTensor'"
            ]
          },
          "metadata": {
            "tags": []
          },
          "execution_count": 0
        }
      ]
    },
    {
      "cell_type": "code",
      "metadata": {
        "id": "wcrR5iPDPoF1",
        "colab_type": "code",
        "colab": {},
        "outputId": "b67ee2eb-4312-4d83-e3f0-52b70741118c"
      },
      "source": [
        "plt.imshow(img.view((28,28)));"
      ],
      "execution_count": 0,
      "outputs": [
        {
          "output_type": "display_data",
          "data": {
            "image/png": "[encoded data removed]",
            "text/plain": [
              "<Figure size 432x288 with 1 Axes>"
            ]
          },
          "metadata": {
            "tags": [],
            "needs_background": "light"
          }
        }
      ]
    },
    {
      "cell_type": "markdown",
      "metadata": {
        "id": "DSYTzV1JPoGN",
        "colab_type": "text"
      },
      "source": [
        "## Initial python model"
      ]
    },
    {
      "cell_type": "markdown",
      "metadata": {
        "id": "U4CMNr80PoGd",
        "colab_type": "text"
      },
      "source": [
        " [Jump_to lesson 8 video](https://course.fast.ai/videos/?lesson=8&t=2342)"
      ]
    },
    {
      "cell_type": "markdown",
      "metadata": {
        "id": "7CWHqtDfPoGj",
        "colab_type": "text"
      },
      "source": [
        " [Jump_to lesson 8 video](https://course.fast.ai/videos/?lesson=8&t=2342)"
      ]
    },
    {
      "cell_type": "code",
      "metadata": {
        "id": "YzrVUjgTPoGn",
        "colab_type": "code",
        "colab": {}
      },
      "source": [
        "weights = torch.randn(784,10)"
      ],
      "execution_count": 0,
      "outputs": []
    },
    {
      "cell_type": "code",
      "metadata": {
        "id": "swgpgp-uPoG3",
        "colab_type": "code",
        "colab": {}
      },
      "source": [
        "bias = torch.zeros(10)"
      ],
      "execution_count": 0,
      "outputs": []
    },
    {
      "cell_type": "markdown",
      "metadata": {
        "id": "dO2jMSSxPoHO",
        "colab_type": "text"
      },
      "source": [
        "#### Matrix multiplication"
      ]
    },
    {
      "cell_type": "code",
      "metadata": {
        "id": "V7nsrtOjPoHR",
        "colab_type": "code",
        "colab": {}
      },
      "source": [
        "def matmul(a,b):\n",
        "    ar,ac = a.shape # n_rows * n_cols\n",
        "    br,bc = b.shape\n",
        "    assert ac==br\n",
        "    c = torch.zeros(ar, bc)\n",
        "    for i in range(ar):\n",
        "        for j in range(bc):\n",
        "            for k in range(ac): # or br\n",
        "                c[i,j] += a[i,k] * b[k,j]\n",
        "    return c"
      ],
      "execution_count": 0,
      "outputs": []
    },
    {
      "cell_type": "code",
      "metadata": {
        "id": "3ccbNLnxPoHl",
        "colab_type": "code",
        "colab": {}
      },
      "source": [
        "m1 = x_valid[:5]\n",
        "m2 = weights"
      ],
      "execution_count": 0,
      "outputs": []
    },
    {
      "cell_type": "code",
      "metadata": {
        "id": "oYYfk--OPoH1",
        "colab_type": "code",
        "colab": {},
        "outputId": "895d0a32-394c-4054-d9c1-a426ff04a20e"
      },
      "source": [
        "m1.shape,m2.shape"
      ],
      "execution_count": 0,
      "outputs": [
        {
          "output_type": "execute_result",
          "data": {
            "text/plain": [
              "(torch.Size([5, 784]), torch.Size([784, 10]))"
            ]
          },
          "metadata": {
            "tags": []
          },
          "execution_count": 0
        }
      ]
    },
    {
      "cell_type": "code",
      "metadata": {
        "id": "KyrxANPNPoIu",
        "colab_type": "code",
        "colab": {},
        "outputId": "70b9da6a-d8fe-495e-938f-053d8cc51001"
      },
      "source": [
        "%time t1=matmul(m1, m2)"
      ],
      "execution_count": 0,
      "outputs": [
        {
          "output_type": "stream",
          "text": [
            "CPU times: user 818 ms, sys: 0 ns, total: 818 ms\n",
            "Wall time: 835 ms\n"
          ],
          "name": "stdout"
        }
      ]
    },
    {
      "cell_type": "code",
      "metadata": {
        "id": "hezjgtnHPoJL",
        "colab_type": "code",
        "colab": {},
        "outputId": "150ab907-d53c-408a-db7d-404d2574cb93"
      },
      "source": [
        "t1.shape"
      ],
      "execution_count": 0,
      "outputs": [
        {
          "output_type": "execute_result",
          "data": {
            "text/plain": [
              "torch.Size([5, 10])"
            ]
          },
          "metadata": {
            "tags": []
          },
          "execution_count": 0
        }
      ]
    },
    {
      "cell_type": "markdown",
      "metadata": {
        "id": "0pcXsk28PoJn",
        "colab_type": "text"
      },
      "source": [
        "This is kinda slow - what if we could speed it up by 50,000 times? Let's try!"
      ]
    },
    {
      "cell_type": "code",
      "metadata": {
        "id": "V8Ux6pDnPoJq",
        "colab_type": "code",
        "colab": {},
        "outputId": "f16ad68f-965f-4e72-cfb6-29dd79c215be"
      },
      "source": [
        "len(x_train)"
      ],
      "execution_count": 0,
      "outputs": [
        {
          "output_type": "execute_result",
          "data": {
            "text/plain": [
              "50000"
            ]
          },
          "metadata": {
            "tags": []
          },
          "execution_count": 0
        }
      ]
    },
    {
      "cell_type": "markdown",
      "metadata": {
        "id": "ctxkJbTuPoJ9",
        "colab_type": "text"
      },
      "source": [
        "#### Elementwise ops"
      ]
    },
    {
      "cell_type": "markdown",
      "metadata": {
        "id": "mSbNnPsfPoKK",
        "colab_type": "text"
      },
      "source": [
        "Operators (+,-,\\*,/,>,<,==) are usually element-wise.\n",
        "\n",
        "Examples of element-wise operations:"
      ]
    },
    {
      "cell_type": "markdown",
      "metadata": {
        "id": "LGNrnePqPoKX",
        "colab_type": "text"
      },
      "source": [
        " [Jump_to lesson 8 video](https://course.fast.ai/videos/?lesson=8&t=2682)"
      ]
    },
    {
      "cell_type": "code",
      "metadata": {
        "id": "u7yPbtFsPoKa",
        "colab_type": "code",
        "colab": {},
        "outputId": "63cc0bd9-b7ba-4185-d9a6-ce2d208fe095"
      },
      "source": [
        "a = tensor([10., 6, -4])\n",
        "b = tensor([2., 8, 7])\n",
        "a,b"
      ],
      "execution_count": 0,
      "outputs": [
        {
          "output_type": "execute_result",
          "data": {
            "text/plain": [
              "(tensor([10.,  6., -4.]), tensor([2., 8., 7.]))"
            ]
          },
          "metadata": {
            "tags": []
          },
          "execution_count": 0
        }
      ]
    },
    {
      "cell_type": "code",
      "metadata": {
        "id": "LA9b4lDdPoKp",
        "colab_type": "code",
        "colab": {},
        "outputId": "a1f69802-4858-4911-d4eb-85e1a6fdbee7"
      },
      "source": [
        "a + b"
      ],
      "execution_count": 0,
      "outputs": [
        {
          "output_type": "execute_result",
          "data": {
            "text/plain": [
              "tensor([12., 14.,  3.])"
            ]
          },
          "metadata": {
            "tags": []
          },
          "execution_count": 0
        }
      ]
    },
    {
      "cell_type": "code",
      "metadata": {
        "id": "IkQQz3Y2PoK9",
        "colab_type": "code",
        "colab": {},
        "outputId": "e2353506-0f55-4621-b743-873e35b378c2"
      },
      "source": [
        "(a < b).float().mean()"
      ],
      "execution_count": 0,
      "outputs": [
        {
          "output_type": "execute_result",
          "data": {
            "text/plain": [
              "tensor(0.6667)"
            ]
          },
          "metadata": {
            "tags": []
          },
          "execution_count": 0
        }
      ]
    },
    {
      "cell_type": "code",
      "metadata": {
        "id": "OEWzAiVfPoLa",
        "colab_type": "code",
        "colab": {},
        "outputId": "ad01db93-7b4e-4571-bbe7-ae5193e47cd3"
      },
      "source": [
        "m = tensor([[1., 2, 3], [4,5,6], [7,8,9]]); m"
      ],
      "execution_count": 0,
      "outputs": [
        {
          "output_type": "execute_result",
          "data": {
            "text/plain": [
              "tensor([[1., 2., 3.],\n",
              "        [4., 5., 6.],\n",
              "        [7., 8., 9.]])"
            ]
          },
          "metadata": {
            "tags": []
          },
          "execution_count": 0
        }
      ]
    },
    {
      "cell_type": "markdown",
      "metadata": {
        "id": "D4Pa32qpPoMS",
        "colab_type": "text"
      },
      "source": [
        "Frobenius norm:\n",
        "\n",
        "$$\\| A \\|_F = \\left( \\sum_{i,j=1}^n | a_{ij} |^2 \\right)^{1/2}$$\n",
        "\n",
        "*Hint*: you don't normally need to write equations in LaTeX yourself, instead, you can click 'edit' in Wikipedia and copy the LaTeX from there (which is what I did for the above equation). Or on arxiv.org, click \"Download: Other formats\" in the top right, then \"Download source\"; rename the downloaded file to end in `.tgz` if it doesn't already, and you should find the source there, including the equations to copy and paste."
      ]
    },
    {
      "cell_type": "code",
      "metadata": {
        "id": "6bIdKkanPoMb",
        "colab_type": "code",
        "colab": {},
        "outputId": "d86a0444-ecdb-4241-f956-e80ed29de295"
      },
      "source": [
        "(m*m).sum().sqrt()"
      ],
      "execution_count": 0,
      "outputs": [
        {
          "output_type": "execute_result",
          "data": {
            "text/plain": [
              "tensor(16.8819)"
            ]
          },
          "metadata": {
            "tags": []
          },
          "execution_count": 0
        }
      ]
    },
    {
      "cell_type": "markdown",
      "metadata": {
        "id": "G2FttrNjPoM_",
        "colab_type": "text"
      },
      "source": [
        "#### Elementwise matmul"
      ]
    },
    {
      "cell_type": "code",
      "metadata": {
        "id": "iLwTtUHVPoNQ",
        "colab_type": "code",
        "colab": {}
      },
      "source": [
        "def matmul(a,b):\n",
        "    ar,ac = a.shape\n",
        "    br,bc = b.shape\n",
        "    assert ac==br\n",
        "    c = torch.zeros(ar, bc)\n",
        "    for i in range(ar):\n",
        "        for j in range(bc):\n",
        "            # Any trailing \",:\" can be removed\n",
        "            c[i,j] = (a[i,:] * b[:,j]).sum()\n",
        "    return c"
      ],
      "execution_count": 0,
      "outputs": []
    },
    {
      "cell_type": "code",
      "metadata": {
        "id": "jRB26hEOPoNa",
        "colab_type": "code",
        "colab": {},
        "outputId": "0d750050-b65d-442e-fd72-15ae1f4c1c30"
      },
      "source": [
        "%timeit -n 10 _=matmul(m1, m2)"
      ],
      "execution_count": 0,
      "outputs": [
        {
          "output_type": "stream",
          "text": [
            "1.39 ms ± 70 µs per loop (mean ± std. dev. of 7 runs, 10 loops each)\n"
          ],
          "name": "stdout"
        }
      ]
    },
    {
      "cell_type": "code",
      "metadata": {
        "id": "Jr8RYEAMPoNw",
        "colab_type": "code",
        "colab": {},
        "outputId": "01bbb2cc-661e-4c69-cff1-4d6fa17a0637"
      },
      "source": [
        "890.1/5"
      ],
      "execution_count": 0,
      "outputs": [
        {
          "output_type": "execute_result",
          "data": {
            "text/plain": [
              "178.02"
            ]
          },
          "metadata": {
            "tags": []
          },
          "execution_count": 0
        }
      ]
    },
    {
      "cell_type": "code",
      "metadata": {
        "id": "jFZ8NXHyPoN_",
        "colab_type": "code",
        "colab": {}
      },
      "source": [
        "#export\n",
        "def near(a,b): return torch.allclose(a, b, rtol=1e-3, atol=1e-5)\n",
        "def test_near(a,b): test(a,b,near)"
      ],
      "execution_count": 0,
      "outputs": []
    },
    {
      "cell_type": "code",
      "metadata": {
        "id": "LgI-BAL9PoOI",
        "colab_type": "code",
        "colab": {}
      },
      "source": [
        "test_near(t1,matmul(m1, m2))"
      ],
      "execution_count": 0,
      "outputs": []
    },
    {
      "cell_type": "markdown",
      "metadata": {
        "id": "ya3iKXeEPoOP",
        "colab_type": "text"
      },
      "source": [
        "### Broadcasting"
      ]
    },
    {
      "cell_type": "markdown",
      "metadata": {
        "id": "dGEAYXzjPoOX",
        "colab_type": "text"
      },
      "source": [
        "The term **broadcasting** describes how arrays with different shapes are treated during arithmetic operations.  The term broadcasting was first used by Numpy.\n",
        "\n",
        "From the [Numpy Documentation](https://docs.scipy.org/doc/numpy-1.10.0/user/basics.broadcasting.html):\n",
        "\n",
        "    The term broadcasting describes how numpy treats arrays with \n",
        "    different shapes during arithmetic operations. Subject to certain \n",
        "    constraints, the smaller array is “broadcast” across the larger \n",
        "    array so that they have compatible shapes. Broadcasting provides a \n",
        "    means of vectorizing array operations so that looping occurs in C\n",
        "    instead of Python. It does this without making needless copies of \n",
        "    data and usually leads to efficient algorithm implementations.\n",
        "    \n",
        "In addition to the efficiency of broadcasting, it allows developers to write less code, which typically leads to fewer errors.\n",
        "\n",
        "*This section was adapted from [Chapter 4](http://nbviewer.jupyter.org/github/fastai/numerical-linear-algebra/blob/master/nbs/4.%20Compressed%20Sensing%20of%20CT%20Scans%20with%20Robust%20Regression.ipynb#4.-Compressed-Sensing-of-CT-Scans-with-Robust-Regression) of the fast.ai [Computational Linear Algebra](https://github.com/fastai/numerical-linear-algebra) course.*"
      ]
    },
    {
      "cell_type": "markdown",
      "metadata": {
        "id": "McBFZfAMPoOw",
        "colab_type": "text"
      },
      "source": [
        "[Jump_to lesson 8 video](https://course.fast.ai/videos/?lesson=8&t=3110)"
      ]
    },
    {
      "cell_type": "markdown",
      "metadata": {
        "id": "_13voth_PoOz",
        "colab_type": "text"
      },
      "source": [
        "#### Broadcasting with a scalar"
      ]
    },
    {
      "cell_type": "code",
      "metadata": {
        "id": "eQxb6oomPoO1",
        "colab_type": "code",
        "colab": {},
        "outputId": "e3a236df-4468-4e9d-ee19-1a6ab80a9aa5"
      },
      "source": [
        "a"
      ],
      "execution_count": 0,
      "outputs": [
        {
          "output_type": "execute_result",
          "data": {
            "text/plain": [
              "tensor([10.,  6., -4.])"
            ]
          },
          "metadata": {
            "tags": []
          },
          "execution_count": 0
        }
      ]
    },
    {
      "cell_type": "code",
      "metadata": {
        "id": "_ZwuywECPoPE",
        "colab_type": "code",
        "colab": {},
        "outputId": "0eb35943-0a26-4885-992a-1ec89ec61915"
      },
      "source": [
        "a > 0"
      ],
      "execution_count": 0,
      "outputs": [
        {
          "output_type": "execute_result",
          "data": {
            "text/plain": [
              "tensor([1, 1, 0], dtype=torch.uint8)"
            ]
          },
          "metadata": {
            "tags": []
          },
          "execution_count": 0
        }
      ]
    },
    {
      "cell_type": "markdown",
      "metadata": {
        "id": "1SPwQWhZPoPU",
        "colab_type": "text"
      },
      "source": [
        "How are we able to do a > 0?  0 is being **broadcast** to have the same dimensions as a.\n",
        "\n",
        "For instance you can normalize our dataset by subtracting the mean (a scalar) from the entire data set (a matrix) and dividing by the standard deviation (another scalar), using broadcasting.\n",
        "\n",
        "Other examples of broadcasting with a scalar:"
      ]
    },
    {
      "cell_type": "code",
      "metadata": {
        "id": "burs0JtCPoPX",
        "colab_type": "code",
        "colab": {},
        "outputId": "a45b7444-d6be-4684-9806-cd42bc20c4a3"
      },
      "source": [
        "a + 1"
      ],
      "execution_count": 0,
      "outputs": [
        {
          "output_type": "execute_result",
          "data": {
            "text/plain": [
              "tensor([11.,  7., -3.])"
            ]
          },
          "metadata": {
            "tags": []
          },
          "execution_count": 0
        }
      ]
    },
    {
      "cell_type": "code",
      "metadata": {
        "id": "u-D78YZNPoPp",
        "colab_type": "code",
        "colab": {},
        "outputId": "2dbb6c0d-8031-44ed-dcb8-44fe3310d05c"
      },
      "source": [
        "m"
      ],
      "execution_count": 0,
      "outputs": [
        {
          "output_type": "execute_result",
          "data": {
            "text/plain": [
              "tensor([[1., 2., 3.],\n",
              "        [4., 5., 6.],\n",
              "        [7., 8., 9.]])"
            ]
          },
          "metadata": {
            "tags": []
          },
          "execution_count": 0
        }
      ]
    },
    {
      "cell_type": "code",
      "metadata": {
        "id": "V8YVVuF3PoP4",
        "colab_type": "code",
        "colab": {},
        "outputId": "3b91fb59-7a61-4400-8eba-f2775f20ec16"
      },
      "source": [
        "2*m"
      ],
      "execution_count": 0,
      "outputs": [
        {
          "output_type": "execute_result",
          "data": {
            "text/plain": [
              "tensor([[ 2.,  4.,  6.],\n",
              "        [ 8., 10., 12.],\n",
              "        [14., 16., 18.]])"
            ]
          },
          "metadata": {
            "tags": []
          },
          "execution_count": 0
        }
      ]
    },
    {
      "cell_type": "markdown",
      "metadata": {
        "id": "8GWhksiSPoQM",
        "colab_type": "text"
      },
      "source": [
        "#### Broadcasting a vector to a matrix"
      ]
    },
    {
      "cell_type": "markdown",
      "metadata": {
        "id": "KB4_7hJ8PoQO",
        "colab_type": "text"
      },
      "source": [
        "We can also broadcast a vector to a matrix:"
      ]
    },
    {
      "cell_type": "code",
      "metadata": {
        "id": "PFgsySjDPoQY",
        "colab_type": "code",
        "colab": {},
        "outputId": "e1818639-9647-4317-a151-d73baafdca77"
      },
      "source": [
        "c = tensor([10.,20,30]); c"
      ],
      "execution_count": 0,
      "outputs": [
        {
          "output_type": "execute_result",
          "data": {
            "text/plain": [
              "tensor([10., 20., 30.])"
            ]
          },
          "metadata": {
            "tags": []
          },
          "execution_count": 0
        }
      ]
    },
    {
      "cell_type": "code",
      "metadata": {
        "id": "-YLyFzFvPoQh",
        "colab_type": "code",
        "colab": {},
        "outputId": "ee6ff285-755c-4fda-cfb6-4bbeb2de9963"
      },
      "source": [
        "m"
      ],
      "execution_count": 0,
      "outputs": [
        {
          "output_type": "execute_result",
          "data": {
            "text/plain": [
              "tensor([[1., 2., 3.],\n",
              "        [4., 5., 6.],\n",
              "        [7., 8., 9.]])"
            ]
          },
          "metadata": {
            "tags": []
          },
          "execution_count": 0
        }
      ]
    },
    {
      "cell_type": "code",
      "metadata": {
        "id": "2ijW2yMxPoQy",
        "colab_type": "code",
        "colab": {},
        "outputId": "1e47fe43-c2b3-4b47-d06b-f12bf489e42b"
      },
      "source": [
        "m.shape,c.shape"
      ],
      "execution_count": 0,
      "outputs": [
        {
          "output_type": "execute_result",
          "data": {
            "text/plain": [
              "(torch.Size([3, 3]), torch.Size([3]))"
            ]
          },
          "metadata": {
            "tags": []
          },
          "execution_count": 0
        }
      ]
    },
    {
      "cell_type": "code",
      "metadata": {
        "id": "ocKvyHEvPoRH",
        "colab_type": "code",
        "colab": {},
        "outputId": "f2a415b7-7da9-4753-e9c4-77d13b93f8ad"
      },
      "source": [
        "m + c"
      ],
      "execution_count": 0,
      "outputs": [
        {
          "output_type": "execute_result",
          "data": {
            "text/plain": [
              "tensor([[11., 22., 33.],\n",
              "        [14., 25., 36.],\n",
              "        [17., 28., 39.]])"
            ]
          },
          "metadata": {
            "tags": []
          },
          "execution_count": 0
        }
      ]
    },
    {
      "cell_type": "code",
      "metadata": {
        "id": "QJ7TJnY7PoRQ",
        "colab_type": "code",
        "colab": {},
        "outputId": "81bc6b29-a7df-49a2-fec4-1ee51a63408a"
      },
      "source": [
        "c + m"
      ],
      "execution_count": 0,
      "outputs": [
        {
          "output_type": "execute_result",
          "data": {
            "text/plain": [
              "tensor([[11., 22., 33.],\n",
              "        [14., 25., 36.],\n",
              "        [17., 28., 39.]])"
            ]
          },
          "metadata": {
            "tags": []
          },
          "execution_count": 0
        }
      ]
    },
    {
      "cell_type": "markdown",
      "metadata": {
        "id": "90pskaQzPoRi",
        "colab_type": "text"
      },
      "source": [
        "We don't really copy the rows, but it looks as if we did. In fact, the rows are given a *stride* of 0."
      ]
    },
    {
      "cell_type": "code",
      "metadata": {
        "id": "xgLapejfPoRt",
        "colab_type": "code",
        "colab": {}
      },
      "source": [
        "t = c.expand_as(m)"
      ],
      "execution_count": 0,
      "outputs": []
    },
    {
      "cell_type": "code",
      "metadata": {
        "id": "mdYUnmrVPoSC",
        "colab_type": "code",
        "colab": {},
        "outputId": "70f72468-c8f4-41ea-a472-17f0fb18d7ae"
      },
      "source": [
        "t"
      ],
      "execution_count": 0,
      "outputs": [
        {
          "output_type": "execute_result",
          "data": {
            "text/plain": [
              "tensor([[10., 20., 30.],\n",
              "        [10., 20., 30.],\n",
              "        [10., 20., 30.]])"
            ]
          },
          "metadata": {
            "tags": []
          },
          "execution_count": 0
        }
      ]
    },
    {
      "cell_type": "code",
      "metadata": {
        "id": "KkCWXutrPoSe",
        "colab_type": "code",
        "colab": {},
        "outputId": "49c3ebbb-0f8b-431b-ce57-093ba073fe20"
      },
      "source": [
        "m + t"
      ],
      "execution_count": 0,
      "outputs": [
        {
          "output_type": "execute_result",
          "data": {
            "text/plain": [
              "tensor([[11., 22., 33.],\n",
              "        [14., 25., 36.],\n",
              "        [17., 28., 39.]])"
            ]
          },
          "metadata": {
            "tags": []
          },
          "execution_count": 0
        }
      ]
    },
    {
      "cell_type": "code",
      "metadata": {
        "id": "HMKo-FtmPoSk",
        "colab_type": "code",
        "colab": {},
        "outputId": "f0497dab-7f56-44b8-bac4-7d64edd864ae"
      },
      "source": [
        "t.storage()"
      ],
      "execution_count": 0,
      "outputs": [
        {
          "output_type": "execute_result",
          "data": {
            "text/plain": [
              " 10.0\n",
              " 20.0\n",
              " 30.0\n",
              "[torch.FloatStorage of size 3]"
            ]
          },
          "metadata": {
            "tags": []
          },
          "execution_count": 0
        }
      ]
    },
    {
      "cell_type": "code",
      "metadata": {
        "id": "7PCTM2YuPoS9",
        "colab_type": "code",
        "colab": {},
        "outputId": "00564310-4dd5-4e96-bed5-a6b6008e6664"
      },
      "source": [
        "t.stride(), t.shape"
      ],
      "execution_count": 0,
      "outputs": [
        {
          "output_type": "execute_result",
          "data": {
            "text/plain": [
              "((0, 1), torch.Size([3, 3]))"
            ]
          },
          "metadata": {
            "tags": []
          },
          "execution_count": 0
        }
      ]
    },
    {
      "cell_type": "markdown",
      "metadata": {
        "id": "CRsVDPgzPoTN",
        "colab_type": "text"
      },
      "source": [
        "You can index with the special value [None] or use `unsqueeze()` to convert a 1-dimensional array into a 2-dimensional array (although one of those dimensions has value 1)."
      ]
    },
    {
      "cell_type": "code",
      "metadata": {
        "id": "l4FRQzE_PoTP",
        "colab_type": "code",
        "colab": {},
        "outputId": "2fe51bab-4074-4451-b116-1c88d9e2a039"
      },
      "source": [
        "c.unsqueeze(0)"
      ],
      "execution_count": 0,
      "outputs": [
        {
          "output_type": "execute_result",
          "data": {
            "text/plain": [
              "tensor([[10., 20., 30.]])"
            ]
          },
          "metadata": {
            "tags": []
          },
          "execution_count": 0
        }
      ]
    },
    {
      "cell_type": "code",
      "metadata": {
        "id": "r71eTZ7dPoTc",
        "colab_type": "code",
        "colab": {},
        "outputId": "7d44dde0-98fc-41db-b67d-1bd8c4a4a2c7"
      },
      "source": [
        "c.unsqueeze(1)"
      ],
      "execution_count": 0,
      "outputs": [
        {
          "output_type": "execute_result",
          "data": {
            "text/plain": [
              "tensor([[10.],\n",
              "        [20.],\n",
              "        [30.]])"
            ]
          },
          "metadata": {
            "tags": []
          },
          "execution_count": 0
        }
      ]
    },
    {
      "cell_type": "code",
      "metadata": {
        "id": "ePwanZt8PoTq",
        "colab_type": "code",
        "colab": {},
        "outputId": "ddadef4d-95af-4c57-c0d1-4e06c4163a01"
      },
      "source": [
        "m"
      ],
      "execution_count": 0,
      "outputs": [
        {
          "output_type": "execute_result",
          "data": {
            "text/plain": [
              "tensor([[1., 2., 3.],\n",
              "        [4., 5., 6.],\n",
              "        [7., 8., 9.]])"
            ]
          },
          "metadata": {
            "tags": []
          },
          "execution_count": 0
        }
      ]
    },
    {
      "cell_type": "code",
      "metadata": {
        "id": "CYlu0lqLPoT1",
        "colab_type": "code",
        "colab": {},
        "outputId": "a1e7995e-d135-471a-c601-8421867e8801"
      },
      "source": [
        "c.shape, c.unsqueeze(0).shape,c.unsqueeze(1).shape"
      ],
      "execution_count": 0,
      "outputs": [
        {
          "output_type": "execute_result",
          "data": {
            "text/plain": [
              "(torch.Size([3]), torch.Size([1, 3]), torch.Size([3, 1]))"
            ]
          },
          "metadata": {
            "tags": []
          },
          "execution_count": 0
        }
      ]
    },
    {
      "cell_type": "code",
      "metadata": {
        "id": "pWrO7T4xPoUD",
        "colab_type": "code",
        "colab": {},
        "outputId": "8c235711-fc36-4242-9f58-6924acecad27"
      },
      "source": [
        "c.shape, c[None].shape,c[:,None].shape"
      ],
      "execution_count": 0,
      "outputs": [
        {
          "output_type": "execute_result",
          "data": {
            "text/plain": [
              "(torch.Size([3]), torch.Size([1, 3]), torch.Size([3, 1]))"
            ]
          },
          "metadata": {
            "tags": []
          },
          "execution_count": 0
        }
      ]
    },
    {
      "cell_type": "markdown",
      "metadata": {
        "id": "_SVBMn0JPoUS",
        "colab_type": "text"
      },
      "source": [
        "You can always skip trailling ':'s. And '...' means '*all preceding dimensions*'"
      ]
    },
    {
      "cell_type": "code",
      "metadata": {
        "id": "l6BQS8xqPoUV",
        "colab_type": "code",
        "colab": {},
        "outputId": "2a847dd9-e4bc-4646-dc78-98b0ffccbc82"
      },
      "source": [
        "c[None].shape,c[...,None].shape"
      ],
      "execution_count": 0,
      "outputs": [
        {
          "output_type": "execute_result",
          "data": {
            "text/plain": [
              "(torch.Size([1, 3]), torch.Size([3, 1]))"
            ]
          },
          "metadata": {
            "tags": []
          },
          "execution_count": 0
        }
      ]
    },
    {
      "cell_type": "code",
      "metadata": {
        "id": "RCiyNnN4PoUm",
        "colab_type": "code",
        "colab": {},
        "outputId": "22d1c789-d0b2-4a43-f16c-08e3aafbe377"
      },
      "source": [
        "c[:,None].expand_as(m)"
      ],
      "execution_count": 0,
      "outputs": [
        {
          "output_type": "execute_result",
          "data": {
            "text/plain": [
              "tensor([[10., 10., 10.],\n",
              "        [20., 20., 20.],\n",
              "        [30., 30., 30.]])"
            ]
          },
          "metadata": {
            "tags": []
          },
          "execution_count": 0
        }
      ]
    },
    {
      "cell_type": "code",
      "metadata": {
        "id": "y0RXx0QRPoU8",
        "colab_type": "code",
        "colab": {},
        "outputId": "8fed2f30-c4d5-4419-ccd1-54901631ea9c"
      },
      "source": [
        "m + c[:,None]"
      ],
      "execution_count": 0,
      "outputs": [
        {
          "output_type": "execute_result",
          "data": {
            "text/plain": [
              "tensor([[11., 12., 13.],\n",
              "        [24., 25., 26.],\n",
              "        [37., 38., 39.]])"
            ]
          },
          "metadata": {
            "tags": []
          },
          "execution_count": 0
        }
      ]
    },
    {
      "cell_type": "code",
      "metadata": {
        "id": "cNMLno8sPoVT",
        "colab_type": "code",
        "colab": {},
        "outputId": "446b47e1-dd34-4049-aba5-db70a696d4fe"
      },
      "source": [
        "c[:,None]"
      ],
      "execution_count": 0,
      "outputs": [
        {
          "output_type": "execute_result",
          "data": {
            "text/plain": [
              "tensor([[10.],\n",
              "        [20.],\n",
              "        [30.]])"
            ]
          },
          "metadata": {
            "tags": []
          },
          "execution_count": 0
        }
      ]
    },
    {
      "cell_type": "markdown",
      "metadata": {
        "id": "m73U_UDMPoVh",
        "colab_type": "text"
      },
      "source": [
        "#### Matmul with broadcasting"
      ]
    },
    {
      "cell_type": "code",
      "metadata": {
        "id": "6ETP8i3HPoV2",
        "colab_type": "code",
        "colab": {}
      },
      "source": [
        "def matmul(a,b):\n",
        "    ar,ac = a.shape\n",
        "    br,bc = b.shape\n",
        "    assert ac==br\n",
        "    c = torch.zeros(ar, bc)\n",
        "    for i in range(ar):\n",
        "#       c[i,j] = (a[i,:]          * b[:,j]).sum() # previous\n",
        "        c[i]   = (a[i  ].unsqueeze(-1) * b).sum(dim=0)\n",
        "    return c"
      ],
      "execution_count": 0,
      "outputs": []
    },
    {
      "cell_type": "code",
      "metadata": {
        "id": "8VATfAPoPoWI",
        "colab_type": "code",
        "colab": {},
        "outputId": "ee13e423-d967-4150-da81-eac1720a8473"
      },
      "source": [
        "%timeit -n 10 _=matmul(m1, m2)"
      ],
      "execution_count": 0,
      "outputs": [
        {
          "output_type": "stream",
          "text": [
            "254 µs ± 11.9 µs per loop (mean ± std. dev. of 7 runs, 10 loops each)\n"
          ],
          "name": "stdout"
        }
      ]
    },
    {
      "cell_type": "code",
      "metadata": {
        "id": "aGGzfzzQPoWg",
        "colab_type": "code",
        "colab": {},
        "outputId": "cee40ed4-7936-4612-8791-4aec98f7bd2e"
      },
      "source": [
        "885000/277"
      ],
      "execution_count": 0,
      "outputs": [
        {
          "output_type": "execute_result",
          "data": {
            "text/plain": [
              "3194.945848375451"
            ]
          },
          "metadata": {
            "tags": []
          },
          "execution_count": 0
        }
      ]
    },
    {
      "cell_type": "code",
      "metadata": {
        "id": "Xvi0-s01PoWu",
        "colab_type": "code",
        "colab": {}
      },
      "source": [
        "test_near(t1, matmul(m1, m2))"
      ],
      "execution_count": 0,
      "outputs": []
    },
    {
      "cell_type": "markdown",
      "metadata": {
        "id": "aclEUsxKPoW7",
        "colab_type": "text"
      },
      "source": [
        "#### Broadcasting Rules"
      ]
    },
    {
      "cell_type": "code",
      "metadata": {
        "id": "B9BBOGD6PoW_",
        "colab_type": "code",
        "colab": {},
        "outputId": "16a3002e-99c1-4165-8f6b-ea199de620c0"
      },
      "source": [
        "c[None,:]"
      ],
      "execution_count": 0,
      "outputs": [
        {
          "output_type": "execute_result",
          "data": {
            "text/plain": [
              "tensor([[10., 20., 30.]])"
            ]
          },
          "metadata": {
            "tags": []
          },
          "execution_count": 0
        }
      ]
    },
    {
      "cell_type": "code",
      "metadata": {
        "id": "AQJ8gLErPoXb",
        "colab_type": "code",
        "colab": {},
        "outputId": "73cdcd0e-8cb0-4aee-ba3a-146af3d6229a"
      },
      "source": [
        "c[None,:].shape"
      ],
      "execution_count": 0,
      "outputs": [
        {
          "output_type": "execute_result",
          "data": {
            "text/plain": [
              "torch.Size([1, 3])"
            ]
          },
          "metadata": {
            "tags": []
          },
          "execution_count": 0
        }
      ]
    },
    {
      "cell_type": "code",
      "metadata": {
        "id": "6LBAC5xcPoXr",
        "colab_type": "code",
        "colab": {},
        "outputId": "fceb7b65-3682-4874-bb61-eadd3b1fabdd"
      },
      "source": [
        "c[:,None]"
      ],
      "execution_count": 0,
      "outputs": [
        {
          "output_type": "execute_result",
          "data": {
            "text/plain": [
              "tensor([[10.],\n",
              "        [20.],\n",
              "        [30.]])"
            ]
          },
          "metadata": {
            "tags": []
          },
          "execution_count": 0
        }
      ]
    },
    {
      "cell_type": "code",
      "metadata": {
        "id": "18Nd8RNPPoX0",
        "colab_type": "code",
        "colab": {},
        "outputId": "cb275413-a3fe-44fe-c0f9-1ab1b640135f"
      },
      "source": [
        "c[:,None].shape"
      ],
      "execution_count": 0,
      "outputs": [
        {
          "output_type": "execute_result",
          "data": {
            "text/plain": [
              "torch.Size([3, 1])"
            ]
          },
          "metadata": {
            "tags": []
          },
          "execution_count": 0
        }
      ]
    },
    {
      "cell_type": "code",
      "metadata": {
        "id": "4ZM0JVKGPoYF",
        "colab_type": "code",
        "colab": {},
        "outputId": "6d6c3ccd-5749-4577-f023-6cf9bf02eab3"
      },
      "source": [
        "c[None,:] * c[:,None]"
      ],
      "execution_count": 0,
      "outputs": [
        {
          "output_type": "execute_result",
          "data": {
            "text/plain": [
              "tensor([[100., 200., 300.],\n",
              "        [200., 400., 600.],\n",
              "        [300., 600., 900.]])"
            ]
          },
          "metadata": {
            "tags": []
          },
          "execution_count": 0
        }
      ]
    },
    {
      "cell_type": "code",
      "metadata": {
        "id": "YliNJ1jzPoYP",
        "colab_type": "code",
        "colab": {},
        "outputId": "d6012aff-bb3f-4651-dcc9-5bd336df0418"
      },
      "source": [
        "c[None] > c[:,None]"
      ],
      "execution_count": 0,
      "outputs": [
        {
          "output_type": "execute_result",
          "data": {
            "text/plain": [
              "tensor([[0, 1, 1],\n",
              "        [0, 0, 1],\n",
              "        [0, 0, 0]], dtype=torch.uint8)"
            ]
          },
          "metadata": {
            "tags": []
          },
          "execution_count": 0
        }
      ]
    },
    {
      "cell_type": "markdown",
      "metadata": {
        "id": "PxwulyXXPoYh",
        "colab_type": "text"
      },
      "source": [
        "When operating on two arrays/tensors, Numpy/PyTorch compares their shapes element-wise. It starts with the **trailing dimensions**, and works its way forward. Two dimensions are **compatible** when\n",
        "\n",
        "- they are equal, or\n",
        "- one of them is 1, in which case that dimension is broadcasted to make it the same size\n",
        "\n",
        "Arrays do not need to have the same number of dimensions. For example, if you have a `256*256*3` array of RGB values, and you want to scale each color in the image by a different value, you can multiply the image by a one-dimensional array with 3 values. Lining up the sizes of the trailing axes of these arrays according to the broadcast rules, shows that they are compatible:\n",
        "\n",
        "    Image  (3d array): 256 x 256 x 3\n",
        "    Scale  (1d array):             3\n",
        "    Result (3d array): 256 x 256 x 3\n",
        "\n",
        "The [numpy documentation](https://docs.scipy.org/doc/numpy-1.13.0/user/basics.broadcasting.html#general-broadcasting-rules) includes several examples of what dimensions can and can not be broadcast together."
      ]
    },
    {
      "cell_type": "markdown",
      "metadata": {
        "id": "-q9mm9y_PoYk",
        "colab_type": "text"
      },
      "source": [
        "### Einstein summation"
      ]
    },
    {
      "cell_type": "markdown",
      "metadata": {
        "id": "KJwjNzumPoYt",
        "colab_type": "text"
      },
      "source": [
        "Einstein summation (`einsum`) is a compact representation for combining products and sums in a general way. From the numpy docs:\n",
        "\n",
        "\"The subscripts string is a comma-separated list of subscript labels, where each label refers to a dimension of the corresponding operand. Whenever a label is repeated it is summed, so `np.einsum('i,i', a, b)` is equivalent to `np.inner(a,b)`. If a label appears only once, it is not summed, so `np.einsum('i', a)` produces a view of a with no changes.\""
      ]
    },
    {
      "cell_type": "markdown",
      "metadata": {
        "id": "f3bklnYmPoYv",
        "colab_type": "text"
      },
      "source": [
        "[Jump_to lesson 8 video](https://course.fast.ai/videos/?lesson=8&t=4280)"
      ]
    },
    {
      "cell_type": "code",
      "metadata": {
        "id": "Uk5rJwKePoYz",
        "colab_type": "code",
        "colab": {}
      },
      "source": [
        "# c[i,j] += a[i,k] * b[k,j]\n",
        "# c[i,j] = (a[i,:] * b[:,j]).sum()\n",
        "def matmul(a,b): return torch.einsum('ik,kj->ij', a, b)"
      ],
      "execution_count": 0,
      "outputs": []
    },
    {
      "cell_type": "code",
      "metadata": {
        "id": "IyOTyLWIPoZT",
        "colab_type": "code",
        "colab": {},
        "outputId": "8be466d9-677d-4b94-9ecd-8cf34b4d4226"
      },
      "source": [
        "%timeit -n 10 _=matmul(m1, m2)"
      ],
      "execution_count": 0,
      "outputs": [
        {
          "output_type": "stream",
          "text": [
            "57.2 µs ± 15.3 µs per loop (mean ± std. dev. of 7 runs, 10 loops each)\n"
          ],
          "name": "stdout"
        }
      ]
    },
    {
      "cell_type": "code",
      "metadata": {
        "id": "DxlxJBo1PoZg",
        "colab_type": "code",
        "colab": {},
        "outputId": "c24585fe-b8ac-4e43-9785-106a5a79efe1"
      },
      "source": [
        "885000/55"
      ],
      "execution_count": 0,
      "outputs": [
        {
          "output_type": "execute_result",
          "data": {
            "text/plain": [
              "16090.90909090909"
            ]
          },
          "metadata": {
            "tags": []
          },
          "execution_count": 0
        }
      ]
    },
    {
      "cell_type": "code",
      "metadata": {
        "id": "K930kU7BPoZr",
        "colab_type": "code",
        "colab": {}
      },
      "source": [
        "test_near(t1, matmul(m1, m2))"
      ],
      "execution_count": 0,
      "outputs": []
    },
    {
      "cell_type": "markdown",
      "metadata": {
        "id": "ivV8L8ACPoZ_",
        "colab_type": "text"
      },
      "source": [
        "### pytorch op"
      ]
    },
    {
      "cell_type": "markdown",
      "metadata": {
        "id": "Jx8785mWPoaB",
        "colab_type": "text"
      },
      "source": [
        "We can use pytorch's function or operator directly for matrix multiplication."
      ]
    },
    {
      "cell_type": "markdown",
      "metadata": {
        "id": "buO6lVSNPoaG",
        "colab_type": "text"
      },
      "source": [
        "[Jump_to lesson 8 video](https://course.fast.ai/videos/?lesson=8&t=4702)"
      ]
    },
    {
      "cell_type": "code",
      "metadata": {
        "id": "cFyRNlHrPoaI",
        "colab_type": "code",
        "colab": {},
        "outputId": "f9ef3dfd-822e-454d-eaef-cfb5951c02eb"
      },
      "source": [
        "%timeit -n 10 t2 = m1.matmul(m2)"
      ],
      "execution_count": 0,
      "outputs": [
        {
          "output_type": "stream",
          "text": [
            "18.2 µs ± 6.1 µs per loop (mean ± std. dev. of 7 runs, 10 loops each)\n"
          ],
          "name": "stdout"
        }
      ]
    },
    {
      "cell_type": "code",
      "metadata": {
        "id": "8wPbRi9hPoaR",
        "colab_type": "code",
        "colab": {},
        "outputId": "597a2744-fdc4-4e3e-a648-64f54a880615"
      },
      "source": [
        "# time comparison vs pure python:\n",
        "885000/18"
      ],
      "execution_count": 0,
      "outputs": [
        {
          "output_type": "execute_result",
          "data": {
            "text/plain": [
              "49166.666666666664"
            ]
          },
          "metadata": {
            "tags": []
          },
          "execution_count": 0
        }
      ]
    },
    {
      "cell_type": "code",
      "metadata": {
        "id": "VLOq5yexPoag",
        "colab_type": "code",
        "colab": {}
      },
      "source": [
        "t2 = m1@m2"
      ],
      "execution_count": 0,
      "outputs": []
    },
    {
      "cell_type": "code",
      "metadata": {
        "id": "QZvmSHWCPobE",
        "colab_type": "code",
        "colab": {}
      },
      "source": [
        "test_near(t1, t2)"
      ],
      "execution_count": 0,
      "outputs": []
    },
    {
      "cell_type": "code",
      "metadata": {
        "id": "W52HW87bPobP",
        "colab_type": "code",
        "colab": {},
        "outputId": "dca90008-abe5-47eb-96c0-9fb07258ba6a"
      },
      "source": [
        "m1.shape,m2.shape"
      ],
      "execution_count": 0,
      "outputs": [
        {
          "output_type": "execute_result",
          "data": {
            "text/plain": [
              "(torch.Size([5, 784]), torch.Size([784, 10]))"
            ]
          },
          "metadata": {
            "tags": []
          },
          "execution_count": 0
        }
      ]
    },
    {
      "cell_type": "markdown",
      "metadata": {
        "id": "91oqbkoMPobW",
        "colab_type": "text"
      },
      "source": [
        "## Export"
      ]
    },
    {
      "cell_type": "code",
      "metadata": {
        "id": "axrCKWINPobY",
        "colab_type": "code",
        "colab": {},
        "outputId": "46b6280d-a718-4310-9c3e-b7f2876c9573"
      },
      "source": [
        "!python notebook2script.py 01_matmul.ipynb"
      ],
      "execution_count": 0,
      "outputs": [
        {
          "output_type": "stream",
          "text": [
            "Converted 01_matmul.ipynb to nb_01.py\r\n"
          ],
          "name": "stdout"
        }
      ]
    },
    {
      "cell_type": "code",
      "metadata": {
        "id": "xqddXsU8Pobm",
        "colab_type": "code",
        "colab": {}
      },
      "source": [
        ""
      ],
      "execution_count": 0,
      "outputs": []
    }
  ]
}